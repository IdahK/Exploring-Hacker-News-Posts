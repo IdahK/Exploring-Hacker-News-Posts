{
 "cells": [
  {
   "cell_type": "markdown",
   "metadata": {
    "collapsed": true
   },
   "source": [
    "# Exploring Hacker News Posts\n",
    "\n",
    "[Hacker News](https://news.ycombinator.com/), a site popular among technology and startup circles, was started by the startup incubator, `Y Combinator` where posts submitted by users are voted and commented upon. Posts that make it to the top of Hacker News' listings can get hundreds of thousands of visits as a result.\n",
    "\n",
    "In this project, we will explore two types of posts from the Hacker News site.That is,posts whose titles either begin with `Ask HN` or `Show HN`. Users submit `Ask HN` posts to ask the Hacker News community a specific question or submit `Show HN` posts to show the Hacker News community a project, product or just something interesting.\n",
    "\n",
    "In comparison to these two types of posts, we determine :\n",
    "- Which of the two receive more comments on average?\n",
    "- Do posts created at a certain time receive more comments on average?\n",
    "\n",
    "It should be noted that the dataset has been reduced from 300,000 rows to approximately 20,000 rows by removing all submissions that did not receive any comments, then randomly sampling from the remaining submissions.\n",
    "\n",
    "You can explore about the Hacker News dataset from [here](https://www.kaggle.com/hacker-news/hacker-news-posts). \n"
   ]
  },
  {
   "cell_type": "code",
   "execution_count": 56,
   "metadata": {
    "collapsed": false
   },
   "outputs": [
    {
     "name": "stdout",
     "output_type": "stream",
     "text": [
      "[['id', 'title', 'url', 'num_points', 'num_comments', 'author', 'created_at'], ['12224879', 'Interactive Dynamic Video', 'http://www.interactivedynamicvideo.com/', '386', '52', 'ne0phyte', '8/4/2016 11:52'], ['10975351', 'How to Use Open Source and Shut the Fuck Up at the Same Time', 'http://hueniverse.com/2016/01/26/how-to-use-open-source-and-shut-the-fuck-up-at-the-same-time/', '39', '10', 'josep2', '1/26/2016 19:30'], ['11964716', \"Florida DJs May Face Felony for April Fools' Water Joke\", 'http://www.thewire.com/entertainment/2013/04/florida-djs-april-fools-water-joke/63798/', '2', '1', 'vezycash', '6/23/2016 22:20'], ['11919867', 'Technology ventures: From Idea to Enterprise', 'https://www.amazon.com/Technology-Ventures-Enterprise-Thomas-Byers/dp/0073523429', '3', '1', 'hswarna', '6/17/2016 0:01']]\n"
     ]
    }
   ],
   "source": [
    "#Importing the Hacker News Dataset\n",
    "from csv import reader\n",
    "\n",
    "opened_file = open('hacker_news.csv')\n",
    "hn = list(reader(opened_file)) #dataset stored as hn as a list of lists\n",
    "\n",
    "print(hn[:5])"
   ]
  },
  {
   "cell_type": "markdown",
   "metadata": {},
   "source": [
    "Printing the first five rows. The first row/list contains clumn headers and the lists after contain the data for one row. "
   ]
  },
  {
   "cell_type": "markdown",
   "metadata": {},
   "source": [
    "## Removing headers from a List of Lists"
   ]
  },
  {
   "cell_type": "code",
   "execution_count": 7,
   "metadata": {
    "collapsed": false
   },
   "outputs": [
    {
     "name": "stdout",
     "output_type": "stream",
     "text": [
      "['id', 'title', 'url', 'num_points', 'num_comments', 'author', 'created_at']\n"
     ]
    }
   ],
   "source": [
    "headers = hn[0]\n",
    "print(headers)"
   ]
  },
  {
   "cell_type": "markdown",
   "metadata": {},
   "source": [
    "Assigning the first row containing column headers to variable headers"
   ]
  },
  {
   "cell_type": "code",
   "execution_count": 57,
   "metadata": {
    "collapsed": false
   },
   "outputs": [
    {
     "name": "stdout",
     "output_type": "stream",
     "text": [
      "[['12224879', 'Interactive Dynamic Video', 'http://www.interactivedynamicvideo.com/', '386', '52', 'ne0phyte', '8/4/2016 11:52'], ['10975351', 'How to Use Open Source and Shut the Fuck Up at the Same Time', 'http://hueniverse.com/2016/01/26/how-to-use-open-source-and-shut-the-fuck-up-at-the-same-time/', '39', '10', 'josep2', '1/26/2016 19:30'], ['11964716', \"Florida DJs May Face Felony for April Fools' Water Joke\", 'http://www.thewire.com/entertainment/2013/04/florida-djs-april-fools-water-joke/63798/', '2', '1', 'vezycash', '6/23/2016 22:20'], ['11919867', 'Technology ventures: From Idea to Enterprise', 'https://www.amazon.com/Technology-Ventures-Enterprise-Thomas-Byers/dp/0073523429', '3', '1', 'hswarna', '6/17/2016 0:01'], ['10301696', 'Note by Note: The Making of Steinway L1037 (2007)', 'http://www.nytimes.com/2007/11/07/movies/07stein.html?_r=0', '8', '2', 'walterbell', '9/30/2015 4:12']]\n"
     ]
    }
   ],
   "source": [
    "# Removing the first row that has column headers from hn dataset\n",
    "hn = hn[1:]\n",
    "\n",
    "print(hn[:5])"
   ]
  },
  {
   "cell_type": "markdown",
   "metadata": {},
   "source": [
    "We have now separated the header columns from the dataset."
   ]
  },
  {
   "cell_type": "markdown",
   "metadata": {},
   "source": [
    "## Filtering data for Ask HN or Show HN Posts"
   ]
  },
  {
   "cell_type": "markdown",
   "metadata": {},
   "source": [
    "We are only concerned with post titles that begin with either `Ask HN` or `Show HN`.\n",
    "\n",
    "Thus we'll extract into new lists of lists containing just the data for this information.\n"
   ]
  },
  {
   "cell_type": "code",
   "execution_count": 58,
   "metadata": {
    "collapsed": false
   },
   "outputs": [],
   "source": [
    "#LIST TO HOLD Ask Hn Posts' Data\n",
    "ask_posts = []\n",
    "\n",
    "#LIST TO HOLD Show Hn Posts' Data\n",
    "show_posts = []\n",
    "\n",
    "#LIST TO Other Posts' Data\n",
    "other_posts = []"
   ]
  },
  {
   "cell_type": "code",
   "execution_count": 59,
   "metadata": {
    "collapsed": false
   },
   "outputs": [],
   "source": [
    "for row in hn: #extracting ask posts, show posts and other posts\n",
    "    title = row[1]\n",
    "    if title.lower().startswith('ask hn'):\n",
    "        ask_posts.append(row)\n",
    "    elif title.lower().startswith('show hn'):\n",
    "        show_posts.append(row)\n",
    "    else:\n",
    "        other_posts.append(row)      "
   ]
  },
  {
   "cell_type": "code",
   "execution_count": 60,
   "metadata": {
    "collapsed": false
   },
   "outputs": [
    {
     "name": "stdout",
     "output_type": "stream",
     "text": [
      "There are 1744 Ask Hn posts\n",
      "There are 1162 Show Hn posts\n",
      "There are 17194 other posts\n"
     ]
    }
   ],
   "source": [
    "#Checking the number under each posts: AskHN Posts, Show Hn Posts, Other Posts \n",
    "print('There are '+str(len(ask_posts))+' Ask Hn posts')\n",
    "print('There are '+str(len(show_posts))+' Show Hn posts')\n",
    "print('There are '+str(len(other_posts))+' other posts')"
   ]
  },
  {
   "cell_type": "markdown",
   "metadata": {},
   "source": [
    "## Calculating average number of comments per posts"
   ]
  },
  {
   "cell_type": "markdown",
   "metadata": {},
   "source": [
    "Now that we have separated ask posts and show posts into lists of lists, we will calculate the average number of comments in each type of posts."
   ]
  },
  {
   "cell_type": "code",
   "execution_count": 61,
   "metadata": {
    "collapsed": false
   },
   "outputs": [],
   "source": [
    "total_ask_comments = 0\n",
    "total_show_comments = 0"
   ]
  },
  {
   "cell_type": "code",
   "execution_count": 29,
   "metadata": {
    "collapsed": false
   },
   "outputs": [
    {
     "name": "stdout",
     "output_type": "stream",
     "text": [
      "14.038417431192661\n"
     ]
    }
   ],
   "source": [
    "#Calculate total no of comments for ask posts\n",
    "for post in ask_posts:\n",
    "    total_ask_comments+= int(post[4])\n",
    "\n",
    "#Compute average no of comments for ask posts\n",
    "avg_ask_comments = total_ask_comments/len(ask_posts)\n",
    "print(avg_ask_comments)\n"
   ]
  },
  {
   "cell_type": "code",
   "execution_count": 62,
   "metadata": {
    "collapsed": false
   },
   "outputs": [
    {
     "name": "stdout",
     "output_type": "stream",
     "text": [
      "10.31669535283993\n"
     ]
    }
   ],
   "source": [
    "#Calculate total no of comments for show posts\n",
    "for post in show_posts:\n",
    "    total_show_comments+= int(post[4])\n",
    "\n",
    "#Compute average no of comments for ask posts\n",
    "avg_show_comments = total_show_comments/len(show_posts)\n",
    "print(avg_show_comments)"
   ]
  },
  {
   "cell_type": "markdown",
   "metadata": {},
   "source": [
    "As you can see, ask posts receive more comments `(14)`  on average than show posts `(10)` on average.\n",
    "\n",
    "Since ask posts are more likely to receive comments, our remaining analysis will focus on these posts."
   ]
  },
  {
   "cell_type": "markdown",
   "metadata": {},
   "source": [
    "## Finding amount of ask posts and comments created by hour"
   ]
  },
  {
   "cell_type": "markdown",
   "metadata": {},
   "source": [
    "In this section, we will determine if ask posts created at a certain time are more likely to attract comments.\n",
    "\n",
    "We will calculate the `amount of ask posts` along with its `comments created` in `each hour` of the day, and thus calculate the `average number of comments ask posts receive by hour created`."
   ]
  },
  {
   "cell_type": "code",
   "execution_count": 63,
   "metadata": {
    "collapsed": false
   },
   "outputs": [
    {
     "data": {
      "text/plain": [
       "{'00': 447,\n",
       " '01': 683,\n",
       " '02': 1381,\n",
       " '03': 421,\n",
       " '04': 337,\n",
       " '05': 464,\n",
       " '06': 397,\n",
       " '07': 267,\n",
       " '08': 492,\n",
       " '09': 251,\n",
       " '10': 793,\n",
       " '11': 641,\n",
       " '12': 687,\n",
       " '13': 1253,\n",
       " '14': 1416,\n",
       " '15': 4477,\n",
       " '16': 1814,\n",
       " '17': 1146,\n",
       " '18': 1439,\n",
       " '19': 1188,\n",
       " '20': 1722,\n",
       " '21': 1745,\n",
       " '22': 479,\n",
       " '23': 543}"
      ]
     },
     "execution_count": 63,
     "metadata": {},
     "output_type": "execute_result"
    }
   ],
   "source": [
    "#Calculating the amount of ask posts and comments by hour created\n",
    "import datetime as dt\n",
    "\n",
    "result_list = []\n",
    "\n",
    "for post in ask_posts:\n",
    "    result_list.append([post[6], int(post[4])])\n",
    "\n",
    "counts_by_hour = {}\n",
    "comments_by_hour = {}\n",
    "date_format = \"%m/%d/%Y %H:%M\"\n",
    "\n",
    "for row in result_list: #extract no of comments for posts created each hour\n",
    "    date = row[0]\n",
    "    comment =  row[1]\n",
    "    time = dt.datetime.strptime(date, date_format).strftime(\"%H\")\n",
    "   \n",
    "    if time not in counts_by_hour:\n",
    "        counts_by_hour[time]=1\n",
    "        comments_by_hour[time]=comment   \n",
    "    else:\n",
    "        counts_by_hour[time]+=1\n",
    "        comments_by_hour[time]+=comment\n",
    "  \n",
    "comments_by_hour"
   ]
  },
  {
   "cell_type": "markdown",
   "metadata": {},
   "source": [
    "`counts_by_hour` : contains the number of ask posts created during each hour of the day\n",
    "\n",
    "`comments_by_hour`: contains the corresponding number of comments ask posts at each hour received "
   ]
  },
  {
   "cell_type": "markdown",
   "metadata": {},
   "source": [
    "## Finding the average number of comments for Ask posts created by each hour of the day "
   ]
  },
  {
   "cell_type": "code",
   "execution_count": 64,
   "metadata": {
    "collapsed": false
   },
   "outputs": [
    {
     "data": {
      "text/plain": [
       "[['06', 9.022727272727273],\n",
       " ['08', 10.25],\n",
       " ['22', 6.746478873239437],\n",
       " ['05', 10.08695652173913],\n",
       " ['17', 11.46],\n",
       " ['02', 23.810344827586206],\n",
       " ['11', 11.051724137931034],\n",
       " ['18', 13.20183486238532],\n",
       " ['14', 13.233644859813085],\n",
       " ['16', 16.796296296296298],\n",
       " ['21', 16.009174311926607],\n",
       " ['03', 7.796296296296297],\n",
       " ['09', 5.5777777777777775],\n",
       " ['20', 21.525],\n",
       " ['13', 14.741176470588234],\n",
       " ['19', 10.8],\n",
       " ['00', 8.127272727272727],\n",
       " ['04', 7.170212765957447],\n",
       " ['07', 7.852941176470588],\n",
       " ['12', 9.41095890410959],\n",
       " ['23', 7.985294117647059],\n",
       " ['15', 38.5948275862069],\n",
       " ['01', 11.383333333333333],\n",
       " ['10', 13.440677966101696]]"
      ]
     },
     "execution_count": 64,
     "metadata": {},
     "output_type": "execute_result"
    }
   ],
   "source": [
    "#Calculate average number of comments per ask post for posts created each hour\n",
    "avg_by_hour = []\n",
    "\n",
    "for hour in comments_by_hour:\n",
    "    avg = comments_by_hour[hour]/counts_by_hour[hour]\n",
    "    avg_by_hour.append([hour,avg])\n",
    "\n",
    "avg_by_hour"
   ]
  },
  {
   "cell_type": "markdown",
   "metadata": {},
   "source": [
    "We have now calculated the average number of comments for posts created during each hour of the day under the list of lists, `avg_by_hour`"
   ]
  },
  {
   "cell_type": "markdown",
   "metadata": {},
   "source": [
    "## Sorting and Printing Highest Values from a List of Lists"
   ]
  },
  {
   "cell_type": "markdown",
   "metadata": {},
   "source": [
    "The format of `avg_by_hour` list of lists is difficult to identify the hours with the highest average number comments for  posts created within those hours.\n",
    "\n",
    "We will finally sort this list and try get the times which one can create a  post so as to have a higher chance of receiving comments. "
   ]
  },
  {
   "cell_type": "code",
   "execution_count": 65,
   "metadata": {
    "collapsed": false,
    "scrolled": true
   },
   "outputs": [
    {
     "name": "stdout",
     "output_type": "stream",
     "text": [
      "[[9.022727272727273, '06'], [10.25, '08'], [6.746478873239437, '22'], [10.08695652173913, '05'], [11.46, '17'], [23.810344827586206, '02'], [11.051724137931034, '11'], [13.20183486238532, '18'], [13.233644859813085, '14'], [16.796296296296298, '16'], [16.009174311926607, '21'], [7.796296296296297, '03'], [5.5777777777777775, '09'], [21.525, '20'], [14.741176470588234, '13'], [10.8, '19'], [8.127272727272727, '00'], [7.170212765957447, '04'], [7.852941176470588, '07'], [9.41095890410959, '12'], [7.985294117647059, '23'], [38.5948275862069, '15'], [11.383333333333333, '01'], [13.440677966101696, '10']]\n"
     ]
    }
   ],
   "source": [
    "#List equals avg_by_hour with swapped columns\n",
    "swap_avg_by_hour = []\n",
    "\n",
    "for row in avg_by_hour:\n",
    "    swap_avg_by_hour.append([row[1],row[0]])\n",
    "\n",
    "print(swap_avg_by_hour)"
   ]
  },
  {
   "cell_type": "code",
   "execution_count": 66,
   "metadata": {
    "collapsed": false
   },
   "outputs": [
    {
     "name": "stdout",
     "output_type": "stream",
     "text": [
      "Top 5 Hours for Ask Posts Comments\n",
      "15:00: 38.59 average comments per post\n",
      "02:00: 23.81 average comments per post\n",
      "20:00: 21.52 average comments per post\n",
      "16:00: 16.80 average comments per post\n",
      "21:00: 16.01 average comments per post\n"
     ]
    }
   ],
   "source": [
    "#Sort list from the highest\n",
    "sorted_swap =  sorted(swap_avg_by_hour, reverse=True)\n",
    "\n",
    "print(\"Top 5 Hours for Ask Posts Comments\")\n",
    "for avg, hr in sorted_swap[:5]:\n",
    "    print(\"{}: {:.2f} average comments per post\".\n",
    "          format(dt.datetime.strptime(hr,\"%H\").strftime(\"%H:%M\"), avg))"
   ]
  },
  {
   "cell_type": "markdown",
   "metadata": {},
   "source": [
    "The hour that receives the most comments per post is `15:00 ` with an average of approximately `38 comments per posts`, a `62% increase of comments` between 15:00 and 02:00.\n",
    "\n",
    "From our top 5 list, we can also see that most comments were made towards the `evening-night hours` when most people are less busy or not at work or they are trying to relax so as to end their day.\n",
    "\n",
    "In my own opinion, in the morning most people are at work and thus have less time to comment on posts.\n",
    "\n",
    "According to the [dataset's documentation](https://www.kaggle.com/hacker-news/hacker-news-posts), the timezone used for collecting the date and time the posts were made was `Eastern Time` in the US. I would therefore recommend creating an ask post at 3:00 pm EST to have a higher chance of receiving comments.\n",
    "\n",
    "Or if you live in Eastern Africa like me 😀, then create your ask post at 10:00 pm EAT."
   ]
  },
  {
   "cell_type": "markdown",
   "metadata": {},
   "source": [
    "## Conclusion"
   ]
  },
  {
   "cell_type": "markdown",
   "metadata": {},
   "source": [
    "In this project, we explored and analyzed the ask and show posts from the Hacker News Site to find out which type of posts and time receive the most comments.\n",
    "\n",
    "From our findings, we noticed that the ask posts receive more comments on average and most comments are received from 15:00 est. And so, we recommend if anyone should create a post on the site, they should explore this option."
   ]
  },
  {
   "cell_type": "code",
   "execution_count": null,
   "metadata": {
    "collapsed": true
   },
   "outputs": [],
   "source": []
  }
 ],
 "metadata": {
  "kernelspec": {
   "display_name": "Python 3",
   "language": "python",
   "name": "python3"
  },
  "language_info": {
   "codemirror_mode": {
    "name": "ipython",
    "version": 3
   },
   "file_extension": ".py",
   "mimetype": "text/x-python",
   "name": "python",
   "nbconvert_exporter": "python",
   "pygments_lexer": "ipython3",
   "version": "3.4.3"
  }
 },
 "nbformat": 4,
 "nbformat_minor": 2
}
